{
 "cells": [
  {
   "cell_type": "code",
   "source": [
    "import pandas as pd\n",
    "%load_ext autoreload\n",
    "%autoreload 2\n",
    "\n",
    "from trasim_simplified.core.kinematics.cfm import get_cf_func\n",
    "from trasim_simplified.core.constant import CFM\n",
    "\n",
    "dt = 0.1\n",
    "cf_name = CFM.IDM\n",
    "cf_func = get_cf_func(cf_name)\n",
    "param_names = [\"s0\", \"v0\", \"T\", \"omega\", \"d\", \"delta\"]\n",
    "# param_names = [\"k1\", \"k2\", \"thw\", \"s0\"]"
   ],
   "metadata": {
    "collapsed": false,
    "ExecuteTime": {
     "end_time": "2024-04-06T09:52:38.296344Z",
     "start_time": "2024-04-06T09:52:37.828357Z"
    }
   },
   "id": "5923bc3aa2f241cf",
   "outputs": [],
   "execution_count": 1
  },
  {
   "metadata": {},
   "cell_type": "markdown",
   "source": "# 轨迹加载",
   "id": "6eab53cc2cee567c"
  },
  {
   "cell_type": "code",
   "source": [
    "from trasim_simplified.util.tools import load_from_pickle, save_to_pickle\n",
    "from trasim_simplified.core.constant import TrackInfo as TI, Prefix\n",
    "import numpy as np\n",
    "\n",
    "clb_type = \"acc\"\n",
    "\n",
    "# 读取轨迹\n",
    "traj_s_full_ori: dict[str, dict] = load_from_pickle(r\"E:\\PyProject\\car-following-model-test\\tests\\data\\ori_full_traj_s.pkl\")\n",
    "# 去除NaN轨迹对\n",
    "invalid_pairs = np.load(r\"E:\\PyProject\\car-following-model-test\\tests\\data\\invalid_ids.npy\")\n",
    "traj_s_full_ori[\"dec\"] = {k: v for k, v in traj_s_full_ori[\"dec\"].items() if k not in invalid_pairs}\n",
    "traj_s_full_ori[\"acc\"] = {k: v for k, v in traj_s_full_ori[\"acc\"].items() if k not in invalid_pairs}\n",
    "\n",
    "save_to_pickle(traj_s_full_ori, r\"E:\\PyProject\\car-following-model-test\\tests\\data\\ori_full_traj_s.pkl\")\n",
    "\n",
    "traj_s_cut_pos = {pair_id: len(df_pair) for pair_id, df_pair in traj_s_full_ori[\"dec\"].items()}\n",
    "\n",
    "if clb_type == \"full\":\n",
    "    traj_s_full: dict[str, pd.DataFrame] = {pair_id: pd.concat([df_pair, traj_s_full_ori[\"acc\"][pair_id]]) for pair_id, df_pair in traj_s_full_ori[\"dec\"].items()}\n",
    "elif clb_type == \"dec\" or clb_type == \"acc\":\n",
    "    traj_s_full: dict[str, pd.DataFrame] = traj_s_full_ori[clb_type]\n",
    "else:\n",
    "    raise ValueError(f\"clb_type: {clb_type} is not supported!\")\n",
    "\n",
    "obs_x_s = [traj_s_full[k][TI.x] for k in traj_s_full.keys()]\n",
    "obs_v_s = [traj_s_full[k][TI.v] for k in traj_s_full.keys()]\n",
    "obs_lx_s = [traj_s_full[k][Prefix.leader + TI.x] for k in traj_s_full.keys()]\n",
    "obs_lv_s = [traj_s_full[k][Prefix.leader + TI.v] for k in traj_s_full.keys()]\n",
    "leaderL_s = [traj_s_full[k][Prefix.leader + TI.length].unique()[0] for k in traj_s_full.keys()]\n",
    "id_s = [k for k in traj_s_full.keys()]\n",
    "print(len(id_s))"
   ],
   "metadata": {
    "collapsed": false,
    "ExecuteTime": {
     "end_time": "2024-04-06T09:52:39.120347Z",
     "start_time": "2024-04-06T09:52:38.617293Z"
    }
   },
   "id": "d22e3253c7e12509",
   "outputs": [
    {
     "name": "stdout",
     "output_type": "stream",
     "text": [
      "690\n"
     ]
    }
   ],
   "execution_count": 2
  },
  {
   "metadata": {},
   "cell_type": "markdown",
   "source": "# 参数标定",
   "id": "35cb8a894a7d05d9"
  },
  {
   "cell_type": "code",
   "source": [
    "from trasim_simplified.util.calibrate.clb_cf_model import clb_run\n",
    "\n",
    "# 跟驰模型参数标定\n",
    "results = clb_run(\n",
    "    cf_func=cf_func, cf_name=cf_name,\n",
    "    obs_x_s=obs_x_s, obs_v_s=obs_v_s, obs_lx_s=obs_lx_s, obs_lv_s=obs_lv_s, leaderL_s=leaderL_s,\n",
    "    dt=0.1, seed=2024, drawing=0, n_jobs=-1,\n",
    "    cf_param_ranges_=None\n",
    ")"
   ],
   "metadata": {
    "collapsed": false,
    "ExecuteTime": {
     "end_time": "2024-04-06T09:56:09.986131Z",
     "start_time": "2024-04-06T09:52:39.571958Z"
    }
   },
   "id": "933577ca7944c83",
   "outputs": [
    {
     "name": "stdout",
     "output_type": "stream",
     "text": [
      "Using geatpy\n"
     ]
    },
    {
     "name": "stderr",
     "output_type": "stream",
     "text": [
      "100%|██████████| 690/690 [03:18<00:00,  3.48it/s]\n"
     ]
    }
   ],
   "execution_count": 3
  },
  {
   "cell_type": "code",
   "source": [
    "from trasim_simplified.util.calibrate.clb_cf_model import aggregate_result\n",
    "\n",
    "avg_obj, avg_param, std_obj, std_param = aggregate_result(results)\n",
    "print(f\"avg_obj: {avg_obj}\\navg_param: {avg_param}\\nstd_obj: {std_obj}\\nstd_param: {std_param}\")"
   ],
   "metadata": {
    "collapsed": false,
    "ExecuteTime": {
     "end_time": "2024-04-06T09:56:12.357609Z",
     "start_time": "2024-04-06T09:56:12.282609Z"
    }
   },
   "id": "b35bbcd0ebbe8eda",
   "outputs": [
    {
     "name": "stdout",
     "output_type": "stream",
     "text": [
      "avg_obj: 0.41240036480743875\n",
      "avg_param: [ 4.22258945 26.02904112  1.23178544  3.65087045  6.08639528  6.69710145]\n",
      "std_obj: 0.3364230544690636\n",
      "std_param: [ 2.64057157 12.04251495  0.7578746   2.67916628  4.21720652  3.43968616]\n"
     ]
    }
   ],
   "execution_count": 4
  },
  {
   "cell_type": "code",
   "source": [
    "from trasim_simplified.util.calibrate.clb_cf_model import clb_param_to_df\n",
    "\n",
    "param_df = clb_param_to_df(id_s, results, cf_name)\n",
    "\n",
    "param_df.to_pickle(fr\"E:\\PyProject\\car-following-model-test\\tests\\data\\clb_{clb_type}_param_df\" + f\"_{cf_name}.pkl\")\n",
    "param_df = pd.read_pickle(fr\"E:\\PyProject\\car-following-model-test\\tests\\data\\clb_{clb_type}_param_df\" + f\"_{cf_name}.pkl\")\n",
    "param_df"
   ],
   "metadata": {
    "collapsed": false,
    "ExecuteTime": {
     "end_time": "2024-04-06T09:56:15.475103Z",
     "start_time": "2024-04-06T09:56:15.378106Z"
    }
   },
   "id": "cff7cec80dbd20a",
   "outputs": [
    {
     "data": {
      "text/plain": [
       "           s0         v0         T     omega          d  delta  Pair_ID  \\\n",
       "0    0.100085  39.989986  1.620128  0.824899   2.923387   10.0       10   \n",
       "1    2.173081  39.999943  0.971562  3.606999   9.995166   10.0       12   \n",
       "2    0.649422  21.588860  1.627058  1.110076   2.635142    5.0       14   \n",
       "3    5.644108  19.707308  0.904207  3.516588   9.999981   10.0       15   \n",
       "4    7.133655  14.379768  0.100000  9.963386  10.000000    4.0       17   \n",
       "..        ...        ...       ...       ...        ...    ...      ...   \n",
       "685  5.769905  39.999971  0.100000  1.740354  10.000000   10.0     6569   \n",
       "686  5.515243  39.999971  1.924470  1.603133  10.000000   10.0     6597   \n",
       "687  4.312600  23.710709  2.611850  1.338539   0.100000    8.0     6599   \n",
       "688  5.777269  36.191149  1.057271  2.648388   7.969887   10.0     6603   \n",
       "689  0.100000  40.000000  0.982551  1.041787   3.102480   10.0     6616   \n",
       "\n",
       "         ObjV  \n",
       "0    0.241589  \n",
       "1    0.394623  \n",
       "2    0.121275  \n",
       "3    0.335343  \n",
       "4    0.468448  \n",
       "..        ...  \n",
       "685  0.375575  \n",
       "686  0.541363  \n",
       "687  0.294537  \n",
       "688  0.189425  \n",
       "689  0.477849  \n",
       "\n",
       "[690 rows x 8 columns]"
      ],
      "text/html": [
       "<div>\n",
       "<style scoped>\n",
       "    .dataframe tbody tr th:only-of-type {\n",
       "        vertical-align: middle;\n",
       "    }\n",
       "\n",
       "    .dataframe tbody tr th {\n",
       "        vertical-align: top;\n",
       "    }\n",
       "\n",
       "    .dataframe thead th {\n",
       "        text-align: right;\n",
       "    }\n",
       "</style>\n",
       "<table border=\"1\" class=\"dataframe\">\n",
       "  <thead>\n",
       "    <tr style=\"text-align: right;\">\n",
       "      <th></th>\n",
       "      <th>s0</th>\n",
       "      <th>v0</th>\n",
       "      <th>T</th>\n",
       "      <th>omega</th>\n",
       "      <th>d</th>\n",
       "      <th>delta</th>\n",
       "      <th>Pair_ID</th>\n",
       "      <th>ObjV</th>\n",
       "    </tr>\n",
       "  </thead>\n",
       "  <tbody>\n",
       "    <tr>\n",
       "      <th>0</th>\n",
       "      <td>0.100085</td>\n",
       "      <td>39.989986</td>\n",
       "      <td>1.620128</td>\n",
       "      <td>0.824899</td>\n",
       "      <td>2.923387</td>\n",
       "      <td>10.0</td>\n",
       "      <td>10</td>\n",
       "      <td>0.241589</td>\n",
       "    </tr>\n",
       "    <tr>\n",
       "      <th>1</th>\n",
       "      <td>2.173081</td>\n",
       "      <td>39.999943</td>\n",
       "      <td>0.971562</td>\n",
       "      <td>3.606999</td>\n",
       "      <td>9.995166</td>\n",
       "      <td>10.0</td>\n",
       "      <td>12</td>\n",
       "      <td>0.394623</td>\n",
       "    </tr>\n",
       "    <tr>\n",
       "      <th>2</th>\n",
       "      <td>0.649422</td>\n",
       "      <td>21.588860</td>\n",
       "      <td>1.627058</td>\n",
       "      <td>1.110076</td>\n",
       "      <td>2.635142</td>\n",
       "      <td>5.0</td>\n",
       "      <td>14</td>\n",
       "      <td>0.121275</td>\n",
       "    </tr>\n",
       "    <tr>\n",
       "      <th>3</th>\n",
       "      <td>5.644108</td>\n",
       "      <td>19.707308</td>\n",
       "      <td>0.904207</td>\n",
       "      <td>3.516588</td>\n",
       "      <td>9.999981</td>\n",
       "      <td>10.0</td>\n",
       "      <td>15</td>\n",
       "      <td>0.335343</td>\n",
       "    </tr>\n",
       "    <tr>\n",
       "      <th>4</th>\n",
       "      <td>7.133655</td>\n",
       "      <td>14.379768</td>\n",
       "      <td>0.100000</td>\n",
       "      <td>9.963386</td>\n",
       "      <td>10.000000</td>\n",
       "      <td>4.0</td>\n",
       "      <td>17</td>\n",
       "      <td>0.468448</td>\n",
       "    </tr>\n",
       "    <tr>\n",
       "      <th>...</th>\n",
       "      <td>...</td>\n",
       "      <td>...</td>\n",
       "      <td>...</td>\n",
       "      <td>...</td>\n",
       "      <td>...</td>\n",
       "      <td>...</td>\n",
       "      <td>...</td>\n",
       "      <td>...</td>\n",
       "    </tr>\n",
       "    <tr>\n",
       "      <th>685</th>\n",
       "      <td>5.769905</td>\n",
       "      <td>39.999971</td>\n",
       "      <td>0.100000</td>\n",
       "      <td>1.740354</td>\n",
       "      <td>10.000000</td>\n",
       "      <td>10.0</td>\n",
       "      <td>6569</td>\n",
       "      <td>0.375575</td>\n",
       "    </tr>\n",
       "    <tr>\n",
       "      <th>686</th>\n",
       "      <td>5.515243</td>\n",
       "      <td>39.999971</td>\n",
       "      <td>1.924470</td>\n",
       "      <td>1.603133</td>\n",
       "      <td>10.000000</td>\n",
       "      <td>10.0</td>\n",
       "      <td>6597</td>\n",
       "      <td>0.541363</td>\n",
       "    </tr>\n",
       "    <tr>\n",
       "      <th>687</th>\n",
       "      <td>4.312600</td>\n",
       "      <td>23.710709</td>\n",
       "      <td>2.611850</td>\n",
       "      <td>1.338539</td>\n",
       "      <td>0.100000</td>\n",
       "      <td>8.0</td>\n",
       "      <td>6599</td>\n",
       "      <td>0.294537</td>\n",
       "    </tr>\n",
       "    <tr>\n",
       "      <th>688</th>\n",
       "      <td>5.777269</td>\n",
       "      <td>36.191149</td>\n",
       "      <td>1.057271</td>\n",
       "      <td>2.648388</td>\n",
       "      <td>7.969887</td>\n",
       "      <td>10.0</td>\n",
       "      <td>6603</td>\n",
       "      <td>0.189425</td>\n",
       "    </tr>\n",
       "    <tr>\n",
       "      <th>689</th>\n",
       "      <td>0.100000</td>\n",
       "      <td>40.000000</td>\n",
       "      <td>0.982551</td>\n",
       "      <td>1.041787</td>\n",
       "      <td>3.102480</td>\n",
       "      <td>10.0</td>\n",
       "      <td>6616</td>\n",
       "      <td>0.477849</td>\n",
       "    </tr>\n",
       "  </tbody>\n",
       "</table>\n",
       "<p>690 rows × 8 columns</p>\n",
       "</div>"
      ]
     },
     "execution_count": 5,
     "metadata": {},
     "output_type": "execute_result"
    }
   ],
   "execution_count": 5
  },
  {
   "metadata": {},
   "cell_type": "markdown",
   "source": "## 标定参数统计性结果",
   "id": "e474240d1abd2f1b"
  },
  {
   "cell_type": "code",
   "source": [
    "pd.options.display.precision = 2\n",
    "\n",
    "param_df[param_names + [\"ObjV\"]].describe().loc[[\"mean\", \"std\", \"min\", \"max\"]]"
   ],
   "metadata": {
    "collapsed": false,
    "ExecuteTime": {
     "end_time": "2024-04-06T09:56:29.401018Z",
     "start_time": "2024-04-06T09:56:29.309020Z"
    }
   },
   "id": "f71e256a8c2a64d6",
   "outputs": [
    {
     "data": {
      "text/plain": [
       "         s0     v0     T  omega      d  delta  ObjV\n",
       "mean   4.22  26.03  1.23   3.65   6.09   6.70  0.41\n",
       "std    2.64  12.05  0.76   2.68   4.22   3.44  0.34\n",
       "min    0.10  10.00  0.10   0.51   0.10   1.00  0.04\n",
       "max   10.00  40.00  5.34  10.00  10.00  10.00  3.96"
      ],
      "text/html": [
       "<div>\n",
       "<style scoped>\n",
       "    .dataframe tbody tr th:only-of-type {\n",
       "        vertical-align: middle;\n",
       "    }\n",
       "\n",
       "    .dataframe tbody tr th {\n",
       "        vertical-align: top;\n",
       "    }\n",
       "\n",
       "    .dataframe thead th {\n",
       "        text-align: right;\n",
       "    }\n",
       "</style>\n",
       "<table border=\"1\" class=\"dataframe\">\n",
       "  <thead>\n",
       "    <tr style=\"text-align: right;\">\n",
       "      <th></th>\n",
       "      <th>s0</th>\n",
       "      <th>v0</th>\n",
       "      <th>T</th>\n",
       "      <th>omega</th>\n",
       "      <th>d</th>\n",
       "      <th>delta</th>\n",
       "      <th>ObjV</th>\n",
       "    </tr>\n",
       "  </thead>\n",
       "  <tbody>\n",
       "    <tr>\n",
       "      <th>mean</th>\n",
       "      <td>4.22</td>\n",
       "      <td>26.03</td>\n",
       "      <td>1.23</td>\n",
       "      <td>3.65</td>\n",
       "      <td>6.09</td>\n",
       "      <td>6.70</td>\n",
       "      <td>0.41</td>\n",
       "    </tr>\n",
       "    <tr>\n",
       "      <th>std</th>\n",
       "      <td>2.64</td>\n",
       "      <td>12.05</td>\n",
       "      <td>0.76</td>\n",
       "      <td>2.68</td>\n",
       "      <td>4.22</td>\n",
       "      <td>3.44</td>\n",
       "      <td>0.34</td>\n",
       "    </tr>\n",
       "    <tr>\n",
       "      <th>min</th>\n",
       "      <td>0.10</td>\n",
       "      <td>10.00</td>\n",
       "      <td>0.10</td>\n",
       "      <td>0.51</td>\n",
       "      <td>0.10</td>\n",
       "      <td>1.00</td>\n",
       "      <td>0.04</td>\n",
       "    </tr>\n",
       "    <tr>\n",
       "      <th>max</th>\n",
       "      <td>10.00</td>\n",
       "      <td>40.00</td>\n",
       "      <td>5.34</td>\n",
       "      <td>10.00</td>\n",
       "      <td>10.00</td>\n",
       "      <td>10.00</td>\n",
       "      <td>3.96</td>\n",
       "    </tr>\n",
       "  </tbody>\n",
       "</table>\n",
       "</div>"
      ]
     },
     "execution_count": 7,
     "metadata": {},
     "output_type": "execute_result"
    }
   ],
   "execution_count": 7
  },
  {
   "metadata": {},
   "cell_type": "markdown",
   "source": "## 仿真轨迹数据生成保存",
   "id": "ebd69f8d5efee8bb"
  },
  {
   "cell_type": "code",
   "execution_count": 10,
   "outputs": [],
   "source": [
    "from trasim_simplified.util.tools import save_to_pickle\n",
    "from trasim_simplified.util.calibrate.clb_cf_model import get_clb_traj\n",
    "\n",
    "traj_s_full_: dict[str, pd.DataFrame] = {pair_id: pd.concat([df_pair, traj_s_full_ori[\"acc\"][pair_id]]) for pair_id, df_pair in traj_s_full_ori[\"dec\"].items()}\n",
    "\n",
    "clb_traj_s = get_clb_traj(traj_s_full_, traj_s_cut_pos, param_df, cf_func, cf_name, dt)\n",
    "\n",
    "save_to_pickle(clb_traj_s, fr\"E:\\PyProject\\car-following-model-test\\tests\\data\\clb_{clb_type}_traj_s\" + f\"_{cf_name}.pkl\")"
   ],
   "metadata": {
    "collapsed": false,
    "ExecuteTime": {
     "end_time": "2024-03-07T10:47:56.131690500Z",
     "start_time": "2024-03-07T10:47:54.834342800Z"
    }
   },
   "id": "72a6dbca137bdaad"
  },
  {
   "metadata": {},
   "cell_type": "markdown",
   "source": "## 轨迹展示",
   "id": "14c45bbd2af40eb9"
  },
  {
   "metadata": {},
   "cell_type": "code",
   "outputs": [
    {
     "data": {
      "text/plain": [
       "<Figure size 640x480 with 1 Axes>"
      ],
      "image/png": "[encoded data removed]"
     },
     "metadata": {},
     "output_type": "display_data"
    }
   ],
   "execution_count": 8,
   "source": [
    "from trasim_simplified.util.calibrate.clb_cf_model import show_traj\n",
    "import random\n",
    "import numpy as np\n",
    "\n",
    "pos = random.choice(range(len(id_s)))\n",
    "id_ = id_s[pos]\n",
    "# id_ = 5283\n",
    "pos = np.where(np.array(id_s) == id_)[0][0]\n",
    "\n",
    "# pos = param_df[param_df[TI.Pair_ID] == 2778].index[0]\n",
    "\n",
    "target = param_df[param_df[TI.Pair_ID] == id_]\n",
    "obs_x = obs_x_s[pos]\n",
    "obs_v = obs_v_s[pos]\n",
    "obs_lx = obs_lx_s[pos]\n",
    "obs_lv = obs_lv_s[pos]\n",
    "leaderL = leaderL_s[pos]\n",
    "show_traj(cf_name, target.to_numpy().reshape(-1), dt, obs_x, obs_v, obs_lx, obs_lv, leaderL, traj_step=None, pair_ID=id_)"
   ],
   "id": "5be6303756e7d65a"
  },
  {
   "metadata": {},
   "cell_type": "markdown",
   "source": "# 迟滞强度计算",
   "id": "b2e69be898f18e3e"
  },
  {
   "metadata": {},
   "cell_type": "code",
   "outputs": [],
   "execution_count": null,
   "source": [
    "from trasim_simplified.core.constant import CFM\n",
    "\n",
    "cf_name = CFM.IDM\n",
    "if cf_name == CFM.IDM:\n",
    "    param_names = [\"s0\", \"v0\", \"T\", \"omega\", \"d\", \"delta\"]\n",
    "elif cf_name == CFM.ACC:\n",
    "    param_names = [\"k1\", \"k2\", \"thw\", \"s0\"]\n",
    "else:\n",
    "    raise ValueError(f\"cf_name {cf_name} error\")\n",
    "clb_type = \"full\"\n",
    "\n",
    "df_ori: dict[str, pd.DataFrame] = pd.read_pickle(\n",
    "    r'E:\\PyProject\\car-following-model-test\\tests\\data\\ori_full_traj_s.pkl')\n",
    "if clb_type == \"full\":\n",
    "    df_clb: dict[str, pd.DataFrame] = pd.read_pickle(\n",
    "        r\"E:\\PyProject\\car-following-model-test\\tests\\data\\clb_full_traj_s\" + f\"_{cf_name}.pkl\")\n",
    "    df_param: pd.DataFrame = pd.read_pickle(\n",
    "        r\"E:\\PyProject\\car-following-model-test\\tests\\data\\clb_full_param_df\" + f\"_{cf_name}.pkl\")\n",
    "else:\n",
    "    raise ValueError(f\"clb_type {clb_type} error\")"
   ],
   "id": "8cb55b0974a6a5c4"
  },
  {
   "metadata": {},
   "cell_type": "code",
   "outputs": [],
   "execution_count": null,
   "source": [
    "from trasim_simplified.util.hysteresis.intensity import cal_sv_intensity, cal_acc_intensity\n",
    "from trasim_simplified.core.constant import TrackInfo as TI, Prefix\n",
    "from trasim_simplified.core.kinematics.cfm import get_cf_default_param, get_cf_equilibrium\n",
    "\n",
    "ids = list(df_ori[\"dec\"].keys())\n",
    "sv_intensity = {}\n",
    "ori_sv_intensity = {}\n",
    "acc_intensity = {}\n",
    "ori_acc_intensity = {}\n",
    "\n",
    "cf_e = get_cf_equilibrium(cf_name)\n",
    "\n",
    "invalid_ids = []\n",
    "\n",
    "for id_ in ids:\n",
    "    cf_param = {name: df_param[df_param[TI.Pair_ID] == id_][name].iloc[0] for name in param_names}\n",
    "    l_length = df_clb[\"dec\"][id_][Prefix.leader + TI.length].iloc[0]\n",
    "    df_dec = df_clb[\"dec\"][id_]\n",
    "    df_acc = df_clb[\"acc\"][id_]\n",
    "    df_dec_ori = df_ori[\"dec\"][id_]\n",
    "    df_acc_ori = df_ori[\"acc\"][id_]\n",
    "\n",
    "    sv_intensity[id_] = cal_sv_intensity(\n",
    "        df_dec[Prefix.leader + TI.x] - df_dec[TI.x] - l_length, df_dec[TI.v],\n",
    "        df_acc[Prefix.leader + TI.x] - df_acc[TI.x] - l_length, df_acc[TI.v], cf_e, cf_param)\n",
    "    ori_sv_intensity[id_] = cal_sv_intensity(\n",
    "        df_dec_ori[Prefix.leader + TI.x] - df_dec_ori[TI.x] - l_length, df_dec_ori[TI.v],\n",
    "        df_acc_ori[Prefix.leader + TI.x] - df_acc_ori[TI.x] - l_length, df_acc_ori[TI.v], cf_e, cf_param)\n",
    "\n",
    "    if np.isnan(sv_intensity[id_][\"dec_vs\"]) or np.isnan(sv_intensity[id_][\"acc_vs\"]) or np.isnan(\n",
    "            ori_sv_intensity[id_][\"dec_vs\"]) or np.isnan(ori_sv_intensity[id_][\"acc_vs\"]):\n",
    "        invalid_ids.append(id_)\n",
    "a = np.array(invalid_ids)\n",
    "np.save(r\"E:\\PyProject\\car-following-model-test\\tests\\data\\invalid_ids.npy\", a)\n",
    "sv_intensity"
   ],
   "id": "f74fc8a3a69c62e7"
  },
  {
   "metadata": {},
   "cell_type": "code",
   "outputs": [],
   "execution_count": null,
   "source": [
    "column_names = sv_intensity[list(sv_intensity.keys())[0]].keys()\n",
    "df_intensity = pd.DataFrame([list(v.values()) for v in sv_intensity.values()], columns=column_names)\n",
    "df_intensity[TI.Pair_ID] = sv_intensity.keys()\n",
    "\n",
    "df_ori_intensity = pd.DataFrame([v.values() for v in ori_sv_intensity.values()],\n",
    "                                columns=[\"ori_\" + name for name in column_names])\n",
    "df_ori_intensity[TI.Pair_ID] = ori_sv_intensity.keys()\n",
    "\n",
    "df_param_merge: pd.DataFrame = df_param.merge(df_intensity, on=TI.Pair_ID)\n",
    "df_param_merge: pd.DataFrame = df_param_merge.merge(df_ori_intensity, on=TI.Pair_ID)\n",
    "df_param_merge.to_pickle(\n",
    "    r\"E:\\PyProject\\car-following-model-test\\tests\\data\\df_param_hysteresis_merge\" + f\"_{cf_name}.pkl\")\n",
    "df_param_merge"
   ],
   "id": "b0cb5479d16e4446"
  },
  {
   "metadata": {},
   "cell_type": "markdown",
   "source": "# 模块加速度贡献",
   "id": "33f6ff520f05af59"
  },
  {
   "cell_type": "code",
   "execution_count": null,
   "outputs": [],
   "source": [
    "def IDM_v_module(omega, v0, delta, speed, **kwargs):\n",
    "    return np.power(speed / v0, delta) * omega\n",
    "\n",
    "def IDM_s_module(omega, s0, T, speed, gap, **kwargs):\n",
    "    return np.sqrt(omega) * (s0 + speed * T) / gap\n",
    "\n",
    "def IDM_z_module(omega, d, speed, leaderV, gap, **kwargs):\n",
    "    return speed * (speed - leaderV) / (2 * np.sqrt(d)) / gap"
   ],
   "metadata": {
    "collapsed": false
   },
   "id": "69c938e3d9bbe05a"
  },
  {
   "metadata": {},
   "cell_type": "code",
   "outputs": [],
   "execution_count": null,
   "source": [
    "# def IDM_v_module(omega, v0, delta, speed, **kwargs):\n",
    "#     return np.power(speed / v0, delta)\n",
    "# \n",
    "# def IDM_s_module(omega, s0, T, speed, gap, **kwargs):\n",
    "#     return (s0 + speed * T) / gap\n",
    "# \n",
    "# def IDM_z_module(omega, d, speed, leaderV, gap, **kwargs):\n",
    "#     return speed * (speed - leaderV) / (2 * np.sqrt(omega * d)) / gap"
   ],
   "id": "3dc83a8ab54c2cb8"
  },
  {
   "metadata": {},
   "cell_type": "code",
   "outputs": [],
   "execution_count": null,
   "source": [
    "from trasim_simplified.util.tools import load_from_pickle\n",
    "from trasim_simplified.core.constant import TrackInfo as TI, Prefix\n",
    "\n",
    "# 读取轨迹数据\n",
    "traj_s_full_clb: dict[str, dict[str, pd.DataFrame]] = load_from_pickle(\n",
    "    r\"E:\\PyProject\\car-following-model-test\\tests\\data\\clb_full_traj_s_IDM.pkl\")\n",
    "traj_s_cut_pos = {v_id: len(df_pair) for v_id, df_pair in traj_s_full_clb[\"dec\"].items()}\n",
    "\n",
    "traj_s_full: dict[str, pd.DataFrame] = {v_id: pd.concat([df_pair, traj_s_full_clb[\"acc\"][v_id]]) for v_id, df_pair in\n",
    "                                        traj_s_full_clb[\"dec\"].items()}\n",
    "id_s = [k for k in traj_s_full.keys()]\n",
    "assert len(id_s) == len(set(id_s))\n",
    "print(len(id_s))"
   ],
   "id": "4857b8e35cb8b2b"
  },
  {
   "metadata": {},
   "cell_type": "markdown",
   "source": "## 计算各模块的平均加速度以及加速度贡献占比",
   "id": "3f22f2c729e9e2d3"
  },
  {
   "metadata": {},
   "cell_type": "code",
   "outputs": [],
   "execution_count": null,
   "source": [
    "def cal_module_acc(cf_param_copy, s, v, lv):\n",
    "    kv = IDM_v_module(**cf_param_copy, speed=v)\n",
    "    ks = IDM_s_module(**cf_param_copy, speed=v, gap=s)\n",
    "    ks_2 = np.power(ks, 2)\n",
    "    kz = IDM_z_module(**cf_param_copy, speed=v, leaderV=lv, gap=s)\n",
    "    kz_2 = np.power(kz, 2)\n",
    "    ksz = 2 * ks * kz\n",
    "    return kv, ks_2, kz_2, ksz"
   ],
   "id": "57322e735ef64e9b"
  },
  {
   "metadata": {},
   "cell_type": "code",
   "outputs": [],
   "execution_count": null,
   "source": [
    "def cal_acc_contribution(cf_param: dict, dec_s, dec_v, acc_s, acc_v, dec_a, acc_a, dec_lv, acc_lv):\n",
    "    cf_param_copy = cf_param.copy()\n",
    "\n",
    "    # 计算平均加速度\n",
    "    dec_kv, dec_ks_2, dec_kz_2, dec_ksz = np.mean(cal_module_acc(cf_param_copy, dec_s, dec_v, dec_lv), axis=1)\n",
    "    acc_kv, acc_ks_2, acc_kz_2, acc_ksz = np.mean(cal_module_acc(cf_param_copy, acc_s, acc_v, acc_lv), axis=1)\n",
    "\n",
    "    # 计算加速度贡献占比\n",
    "    omega = cf_param_copy[\"omega\"]\n",
    "    # omega = 1\n",
    "    dec_total_a = omega + dec_kv + dec_ks_2 + dec_kz_2 + np.abs(dec_ksz)\n",
    "    dec_kv_percent = dec_kv / dec_total_a\n",
    "    dec_ks_2_percent = dec_ks_2 / dec_total_a\n",
    "    dec_kz_2_percent = dec_kz_2 / dec_total_a\n",
    "    dec_ksz_percent = np.abs(dec_ksz) / dec_total_a\n",
    "    dec_omega_percent = omega / dec_total_a\n",
    "\n",
    "    acc_total_a = omega + acc_kv + acc_ks_2 + acc_kz_2 + np.abs(acc_ksz)\n",
    "    acc_kv_percent = acc_kv / acc_total_a\n",
    "    acc_ks_2_percent = acc_ks_2 / acc_total_a\n",
    "    acc_kz_2_percent = acc_kz_2 / acc_total_a\n",
    "    acc_ksz_percent = np.abs(acc_ksz) / acc_total_a\n",
    "    acc_omega_percent = omega / acc_total_a\n",
    "\n",
    "    # 计算全过程的加速度贡献占比\n",
    "    kv = np.mean([dec_kv, acc_kv])  # 前车减速过程的平均加速度\n",
    "    ks_2 = np.mean([dec_ks_2, acc_ks_2])  # 前车减速过程的平均加速度\n",
    "    kz_2 = np.mean([dec_kz_2, acc_kz_2])  # 前车减速过程的平均加速度\n",
    "    ksz = np.mean([np.abs(dec_ksz), np.abs(acc_ksz)])\n",
    "    total_a = kv + ks_2 + kz_2 + ksz\n",
    "    kv_percent = kv / total_a\n",
    "    ks_2_percent = ks_2 / total_a\n",
    "    kz_2_percent = kz_2 / total_a\n",
    "    ksz_percent = ksz / total_a\n",
    "    omega_percent = omega / total_a\n",
    "\n",
    "    # 前后车两者在减速过程中的平均加速度差值，即两者速度变化量的差异\n",
    "    return {\n",
    "        \"dec_la_mean\": np.mean(dec_a), \"acc_la_mean\": np.mean(acc_a),\n",
    "        \"dec_kv\": dec_kv, \"dec_ks_2\": dec_ks_2, \"dec_kz_2\": dec_kz_2, \"dec_ksz\": dec_ksz, \"dec_omega\": omega,\n",
    "        \"acc_kv\": acc_kv, \"acc_ks_2\": acc_ks_2, \"acc_kz_2\": acc_kz_2, \"acc_ksz\": acc_ksz, \"acc_omega\": omega,\n",
    "        \"dec_kv_percent\": dec_kv_percent, \"dec_ks_2_percent\": dec_ks_2_percent, \"dec_kz_2_percent\": dec_kz_2_percent,\n",
    "        \"dec_ksz_percent\": dec_ksz_percent, \"dec_omega_percent\": dec_omega_percent,\n",
    "        \"acc_kv_percent\": acc_kv_percent, \"acc_ks_2_percent\": acc_ks_2_percent, \"acc_kz_2_percent\": acc_kz_2_percent,\n",
    "        \"acc_ksz_percent\": acc_ksz_percent, \"acc_omega_percent\": acc_omega_percent,\n",
    "        \"kv\": kv, \"ks_2\": ks_2, \"kz_2\": kz_2, \"ksz\": ksz, \"omega\": omega,\n",
    "        \"kv_percent\": kv_percent, \"ks_2_percent\": ks_2_percent, \"kz_2_percent\": kz_2_percent,\n",
    "        \"ksz_percent\": ksz_percent, \"omega_percent\": omega_percent,\n",
    "    }"
   ],
   "id": "8df0f72a8977de97"
  },
  {
   "metadata": {},
   "cell_type": "code",
   "outputs": [],
   "execution_count": null,
   "source": "param_names = [\"s0\", \"v0\", \"T\", \"omega\", \"d\", \"delta\"]",
   "id": "d2af3b0f62144bae"
  },
  {
   "metadata": {},
   "cell_type": "code",
   "outputs": [],
   "execution_count": null,
   "source": [
    "import tqdm\n",
    "\n",
    "for pair_id in tqdm.tqdm(id_s):\n",
    "    cf_param = {name: df_param_merge[df_param_merge[TI.Pair_ID] == pair_id][name].iloc[0] for name in param_names}\n",
    "    temp_dec = traj_s_full_clb[\"dec\"][pair_id]\n",
    "    temp_acc = traj_s_full_clb[\"acc\"][pair_id]\n",
    "    # dec_s, dec_v, acc_s, acc_v, dec_a, acc_a, dec_lv, acc_lv\n",
    "    acc_contribution_result = cal_acc_contribution(\n",
    "        cf_param,\n",
    "        temp_dec[TI.gap],\n",
    "        temp_dec[TI.v],\n",
    "        temp_acc[TI.gap],\n",
    "        temp_acc[TI.v],\n",
    "        temp_dec[TI.a],\n",
    "        temp_acc[TI.a],\n",
    "        temp_dec[Prefix.leader + TI.v],\n",
    "        temp_acc[Prefix.leader + TI.v]\n",
    "    )\n",
    "    df_param_merge.loc[df_param_merge[TI.Pair_ID] == pair_id, list(acc_contribution_result.keys())] = list(\n",
    "        acc_contribution_result.values())\n",
    "\n",
    "df_param_merge.to_pickle(\n",
    "    r\"E:\\PyProject\\car-following-model-test\\tests\\data\\df_param_hysteresis_merge_module\" + f\"_{cf_name}.pkl\")\n",
    "df_param_merge"
   ],
   "id": "bbdfcaffe69d96a5"
  }
 ],
 "metadata": {
  "kernelspec": {
   "display_name": "Python 3",
   "language": "python",
   "name": "python3"
  },
  "language_info": {
   "codemirror_mode": {
    "name": "ipython",
    "version": 2
   },
   "file_extension": ".py",
   "mimetype": "text/x-python",
   "name": "python",
   "nbconvert_exporter": "python",
   "pygments_lexer": "ipython2",
   "version": "2.7.6"
  }
 },
 "nbformat": 4,
 "nbformat_minor": 5
}
