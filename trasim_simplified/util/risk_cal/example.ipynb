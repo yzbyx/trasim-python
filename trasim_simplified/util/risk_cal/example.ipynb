{
 "cells": [
  {
   "cell_type": "code",
   "execution_count": null,
   "metadata": {},
   "outputs": [],
   "source": [
    "import numpy as np\n",
    "import pandas as pd\n",
    "from tqdm.notebook import tqdm\n",
    "import matplotlib.pyplot as plt\n",
    "from src.longitudinal_ssms import TTC\n",
    "from src.two_dimensional_ssms import TTC2D\n",
    "from src.efficiency_utils import evaluate_efficiency"
   ]
  },
  {
   "cell_type": "code",
   "execution_count": null,
   "metadata": {},
   "outputs": [],
   "source": [
    "samples = pd.read_hdf('./assets/samples.h5', key='example')\n",
    "SSMs = ['TTC', 'DRAC', 'MTTC', 'PSD', 'TTC2D', 'ACT', 'TAdv']"
   ]
  },
  {
   "cell_type": "code",
   "execution_count": null,
   "metadata": {},
   "outputs": [],
   "source": [
    "# Example use of TTC returning a dataframe\n",
    "results = TTC(samples, toreturn='dataframe')\n",
    "results[['TTC']].head()"
   ]
  },
  {
   "cell_type": "code",
   "execution_count": null,
   "metadata": {},
   "outputs": [],
   "source": [
    "# Example use of TTC2D returning values\n",
    "ttc2d_values = TTC2D(samples, toreturn='values')\n",
    "_ = plt.hist(ttc2d_values, bins=np.linspace(0, 15, 35), alpha=0.5, label='TTC2D')\n",
    "_ = plt.hist(results['TTC'], bins=np.linspace(0, 15, 35), alpha=0.5, label='TTC1D')\n",
    "plt.legend()\n",
    "plt.xlabel('Time to Collision (s)')\n",
    "plt.ylabel('Frequency')"
   ]
  },
  {
   "cell_type": "code",
   "execution_count": null,
   "metadata": {},
   "outputs": [],
   "source": [
    "samples = samples.loc[:1e4-1] # extract 1e4 samples for testing\n",
    "eval_results = {}\n",
    "for ssm in tqdm(SSMs):\n",
    "    for num_pairs in [1e4, 1e5, 1e6]:\n",
    "        num_pairs = int(num_pairs)\n",
    "        num_repeat = int(num_pairs//len(samples))\n",
    "        test_samples = pd.concat([samples]*num_repeat, ignore_index=True)\n",
    "        avg_time, run_time = evaluate_efficiency(test_samples, ssm, 20, average_only=False)\n",
    "        print(f'{ssm} with {num_pairs} pairs: {avg_time:.2f} seconds on average.')\n",
    "        eval_results[(ssm, num_pairs)] = run_time"
   ]
  },
  {
   "cell_type": "code",
   "execution_count": null,
   "metadata": {},
   "outputs": [],
   "source": [
    "fig, axes = plt.subplots(1, 3, figsize=(15, 4.5), constrained_layout=True, gridspec_kw={'wspace': 0.05})\n",
    "fig.suptitle('Time taken with different SSMs for a large number of vehicle pairs')\n",
    "for axid, num_pairs in enumerate([1e4, 1e5, 1e6]):\n",
    "    ax = axes[axid]\n",
    "    ax.set_title(f'For 1e{int(np.log10(num_pairs))} pairs')\n",
    "    num_pairs = int(num_pairs)\n",
    "    for pos, ssm in enumerate(SSMs):\n",
    "        data = eval_results[(ssm, num_pairs)]\n",
    "        ax.boxplot(data, positions=[pos], showfliers=True, widths=0.6)\n",
    "    xlabels = [f'{ssm}\\n({np.median(eval_results[(ssm, num_pairs)]):.2f}s)' for ssm in SSMs]\n",
    "    ax.set_xticks(list(range(len(SSMs))))\n",
    "    ax.set_xticklabels(xlabels)\n",
    "    ax.set_ylabel('Time (s)')"
   ]
  },
  {
   "cell_type": "code",
   "execution_count": null,
   "metadata": {},
   "outputs": [],
   "source": [
    "fig.savefig('./assets/efficiency_comparison.svg', dpi=400, bbox_inches='tight')"
   ]
  },
  {
   "cell_type": "code",
   "execution_count": null,
   "metadata": {},
   "outputs": [],
   "source": []
  }
 ],
 "metadata": {
  "kernelspec": {
   "display_name": "conflict",
   "language": "python",
   "name": "python3"
  },
  "language_info": {
   "codemirror_mode": {
    "name": "ipython",
    "version": 3
   },
   "file_extension": ".py",
   "mimetype": "text/x-python",
   "name": "python",
   "nbconvert_exporter": "python",
   "pygments_lexer": "ipython3",
   "version": "3.12.9"
  }
 },
 "nbformat": 4,
 "nbformat_minor": 2
}
